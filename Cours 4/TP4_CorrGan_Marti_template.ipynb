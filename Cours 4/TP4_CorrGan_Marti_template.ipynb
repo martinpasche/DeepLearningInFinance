{
 "cells": [
  {
   "cell_type": "markdown",
   "id": "e773ac61-c1d3-415e-af6b-26796c193f38",
   "metadata": {},
   "source": [
    "# TP4: correlation matrix generation as an image generation problem"
   ]
  },
  {
   "cell_type": "code",
   "execution_count": 1,
   "id": "SVUy5A9SrbNa",
   "metadata": {
    "id": "SVUy5A9SrbNa"
   },
   "outputs": [],
   "source": [
    "# 99% from https://gmarti.gitlab.io/ml/2019/07/15/financial-correlations-stylized-facts.html  (Gautier Marti)\n",
    "# 0.5% from https://gitlab-research.centralesupelec.fr/2019bongiornc/average-oracle-cleaning/-/blob/main/Calibrate_AO.ipynb  (Christian Bongiorno)\n",
    "# 0.4% from me (Damien Challet)\n",
    "# 0.1% from https://wil.yegelwel.com/cluster-correlation-matrix (Wil Yegelwel)"
   ]
  },
  {
   "cell_type": "code",
   "execution_count": 2,
   "id": "pj1YqjTrqJnT",
   "metadata": {
    "colab": {
     "base_uri": "https://localhost:8080/"
    },
    "id": "pj1YqjTrqJnT",
    "outputId": "8d956a4c-132b-4719-9e30-0b35e4034c4f"
   },
   "outputs": [],
   "source": [
    "# on Google Colab:\n",
    "\n",
    "#pip install fastcluster\n",
    "#from google.colab import files\n",
    "\n",
    "#uploaded = files.upload()"
   ]
  },
  {
   "cell_type": "code",
   "execution_count": null,
   "id": "Hu-XHIjaqNWu",
   "metadata": {
    "colab": {
     "base_uri": "https://localhost:8080/",
     "height": 72
    },
    "id": "Hu-XHIjaqNWu",
    "outputId": "82be6893-94a6-4e95-8f7a-660372e39dbf"
   },
   "outputs": [],
   "source": []
  },
  {
   "cell_type": "code",
   "execution_count": 3,
   "id": "7e5cbdaa-d825-4324-96df-86d277bca6c9",
   "metadata": {
    "id": "7e5cbdaa-d825-4324-96df-86d277bca6c9",
    "tags": []
   },
   "outputs": [
    {
     "name": "stderr",
     "output_type": "stream",
     "text": [
      "2023-03-23 08:55:42.732104: I tensorflow/core/platform/cpu_feature_guard.cc:193] This TensorFlow binary is optimized with oneAPI Deep Neural Network Library (oneDNN) to use the following CPU instructions in performance-critical operations:  AVX2 FMA\n",
      "To enable them in other operations, rebuild TensorFlow with the appropriate compiler flags.\n"
     ]
    },
    {
     "name": "stdout",
     "output_type": "stream",
     "text": [
      "2.11.0\n"
     ]
    }
   ],
   "source": [
    "import tensorflow as tf\n",
    "print(tf.__version__)\n",
    "%matplotlib inline\n",
    "\n",
    "import os\n",
    "import time\n",
    "import glob\n",
    "import imageio\n",
    "import matplotlib.pyplot as plt\n",
    "from matplotlib import cm\n",
    "\n",
    "import pandas as pd\n",
    "import numpy as np\n",
    "import fastcluster\n",
    "import networkx as nx\n",
    "from scipy.cluster import hierarchy\n",
    "import PIL\n",
    "from tensorflow.keras import layers\n",
    "from statsmodels.stats.correlation_tools import corr_nearest\n",
    "\n",
    "from IPython import display\n",
    "\n",
    "n = 40\n",
    "T = 150\n",
    "\n",
    "a, b = np.triu_indices(n, k=1)"
   ]
  },
  {
   "cell_type": "code",
   "execution_count": 4,
   "id": "d983bc70-78b3-421b-8888-d0ea54a12463",
   "metadata": {
    "id": "d983bc70-78b3-421b-8888-d0ea54a12463",
    "tags": []
   },
   "outputs": [],
   "source": [
    "import pandas as pd\n",
    "allrets=pd.read_csv(\"sp500_20161229.csv.gz\")\n",
    "allrets=allrets.values[:,1:]  # drop the dates\n",
    "allrets=allrets.astype(float)\n",
    "allrets=np.nan_to_num(allrets)"
   ]
  },
  {
   "cell_type": "code",
   "execution_count": 5,
   "id": "bd80022d-8cf2-4ecb-a6ed-b932c34e837e",
   "metadata": {
    "id": "bd80022d-8cf2-4ecb-a6ed-b932c34e837e",
    "tags": []
   },
   "outputs": [],
   "source": [
    "import fastcluster\n",
    "from scipy.cluster.hierarchy import fcluster\n",
    "\n",
    "def clustThr(ret,thr=0.95):    # (Ch. B.)\n",
    "    # Select only the subset of stocks with a correlation smaller than thr\n",
    "    C = np.corrcoef(ret)[np.triu_indices(ret.shape[0],1)]\n",
    "    c = fcluster(fastcluster.single(1-C),1-thr,criterion='distance')\n",
    "    return np.unique(c,return_index=True)[1]"
   ]
  },
  {
   "cell_type": "code",
   "execution_count": 6,
   "id": "gtKGSAsE4Ei8",
   "metadata": {
    "id": "gtKGSAsE4Ei8",
    "tags": []
   },
   "outputs": [],
   "source": [
    "import scipy\n",
    "import scipy.cluster.hierarchy as sch\n",
    "\n",
    "def cluster_corr(corr_array, inplace=False):    # from https://wil.yegelwel.com/cluster-correlation-matrix/\n",
    "    \"\"\"\n",
    "    Rearranges the correlation matrix, corr_array, so that groups of highly \n",
    "    correlated variables are next to eachother \n",
    "    \n",
    "    Parameters\n",
    "    ----------\n",
    "    corr_array : pandas.DataFrame or numpy.ndarray\n",
    "        a NxN correlation matrix \n",
    "        \n",
    "    Returns\n",
    "    -------\n",
    "    pandas.DataFrame or numpy.ndarray\n",
    "        a NxN correlation matrix with the columns and rows rearranged\n",
    "    \"\"\"\n",
    "    pairwise_distances = sch.distance.pdist(corr_array)\n",
    "    linkage = sch.linkage(pairwise_distances, method='complete')\n",
    "    cluster_distance_threshold = pairwise_distances.max()/2\n",
    "    idx_to_cluster_array = sch.fcluster(linkage, cluster_distance_threshold, \n",
    "                                        criterion='distance')\n",
    "    idx = np.argsort(idx_to_cluster_array)\n",
    "    \n",
    "    if not inplace:\n",
    "        corr_array = corr_array.copy()\n",
    "    \n",
    "    if isinstance(corr_array, pd.DataFrame):\n",
    "        return corr_array.iloc[idx, :].T.iloc[idx, :]\n",
    "    return corr_array[idx, :][:, idx]"
   ]
  },
  {
   "cell_type": "code",
   "execution_count": 7,
   "id": "fa093ecc-0f53-45c1-a8e8-875dc7b00bcf",
   "metadata": {
    "id": "fa093ecc-0f53-45c1-a8e8-875dc7b00bcf",
    "tags": []
   },
   "outputs": [],
   "source": [
    "n_corrs=10000\n",
    "corrs=[]\n",
    "\n",
    "for i in range(n_corrs):\n",
    "    idx_assets=np.random.choice(allrets.shape[1], 2*n,replace=False)\n",
    "    t0=np.random.choice(allrets.shape[0]-T,1)[0]\n",
    "    t1=t0+T\n",
    "    rets_idx=allrets[t0:t1,idx_assets]\n",
    "    \n",
    "    #Filter1: Remove stocks with more than 20% of zero returns in-sample (Ch. B.)\n",
    "    msk = np.where((rets_idx==0).mean(axis=0)<0.2)[0]\n",
    "    rets_idx=rets_idx[:,msk]\n",
    "\n",
    "    #Filter2: Remove stocks that in-sample have a correlation larger then 0.95 (probably errors in out dataset) (Ch. B.)\n",
    "    msk = clustThr(rets_idx.T,thr=0.95)\n",
    "    rets_idx=rets_idx[:,msk]\n",
    "\n",
    "    \n",
    "    idx_final=np.random.choice(rets_idx.shape[1], n, replace=False)\n",
    "    rets_idx=rets_idx[:,idx_final]\n",
    "\n",
    "    C=np.corrcoef(rets_idx.T)\n",
    "    \n",
    "    C=cluster_corr(C)\n",
    "    corrs.append(C)"
   ]
  },
  {
   "cell_type": "code",
   "execution_count": 8,
   "id": "9f8b2479-f025-42f5-bf25-3972cd350f05",
   "metadata": {
    "colab": {
     "base_uri": "https://localhost:8080/"
    },
    "id": "9f8b2479-f025-42f5-bf25-3972cd350f05",
    "outputId": "de6d3530-61c7-4f71-ce66-b53e7c29a82a",
    "tags": []
   },
   "outputs": [
    {
     "name": "stdout",
     "output_type": "stream",
     "text": [
      "(10000, 40, 40, 1)\n"
     ]
    }
   ],
   "source": [
    "#corrs = []\n",
    "#for r, d, files in os.walk('sorted_corrs/'):\n",
    "#    for file in files:\n",
    "#        if 'corr_emp_{}d_batch_'.format(n) in file:\n",
    "#            flat_corr = pd.read_hdf('sorted_corrs/{}'.format(file))\n",
    "#            corr = np.ones((n, n))\n",
    "#            corr[a, b] = flat_corr\n",
    "#            corr[b, a] = flat_corr\n",
    "#            corrs.append(corr)\n",
    "corrs = (np.array(corrs)\n",
    "         .reshape(len(corrs), n, n, 1)\n",
    "         .astype('float32'))\n",
    "print(corrs.shape)"
   ]
  },
  {
   "cell_type": "code",
   "execution_count": null,
   "id": "7aac8ade-8647-4843-ac0a-ed593765b1ae",
   "metadata": {
    "id": "7aac8ade-8647-4843-ac0a-ed593765b1ae"
   },
   "outputs": [],
   "source": []
  },
  {
   "cell_type": "code",
   "execution_count": 9,
   "id": "ad90d768-c8a5-483c-b31a-c6ad03f222fa",
   "metadata": {
    "colab": {
     "base_uri": "https://localhost:8080/",
     "height": 269
    },
    "id": "ad90d768-c8a5-483c-b31a-c6ad03f222fa",
    "outputId": "a4d01b5c-b53c-49e8-f935-bd0e7e6050f0",
    "tags": []
   },
   "outputs": [
    {
     "data": {
      "image/png": "[encoded data removed]",
      "text/plain": [
       "<Figure size 640x480 with 2 Axes>"
      ]
     },
     "metadata": {},
     "output_type": "display_data"
    }
   ],
   "source": [
    "plt.pcolormesh(corrs[6, :, :, 0])\n",
    "plt.colorbar()\n",
    "plt.show()"
   ]
  },
  {
   "cell_type": "code",
   "execution_count": 10,
   "id": "2184f5cd-d899-4ea9-8f42-150fc684691c",
   "metadata": {
    "id": "2184f5cd-d899-4ea9-8f42-150fc684691c",
    "tags": []
   },
   "outputs": [
    {
     "name": "stderr",
     "output_type": "stream",
     "text": [
      "2023-03-23 08:55:55.189952: I tensorflow/compiler/xla/stream_executor/cuda/cuda_gpu_executor.cc:981] successful NUMA node read from SysFS had negative value (-1), but there must be at least one NUMA node, so returning NUMA node zero\n",
      "2023-03-23 08:55:55.192294: I tensorflow/compiler/xla/stream_executor/cuda/cuda_gpu_executor.cc:981] successful NUMA node read from SysFS had negative value (-1), but there must be at least one NUMA node, so returning NUMA node zero\n",
      "2023-03-23 08:55:55.192503: I tensorflow/compiler/xla/stream_executor/cuda/cuda_gpu_executor.cc:981] successful NUMA node read from SysFS had negative value (-1), but there must be at least one NUMA node, so returning NUMA node zero\n"
     ]
    }
   ],
   "source": [
    "gpu_devices = tf.config.experimental.list_physical_devices('GPU')\n",
    "for device in gpu_devices:\n",
    "    tf.config.experimental.set_memory_growth(device, True)\n",
    "\n",
    " "
   ]
  },
  {
   "cell_type": "code",
   "execution_count": null,
   "id": "9440c1e3-720e-46a2-8fb9-ca865ed68377",
   "metadata": {
    "id": "9440c1e3-720e-46a2-8fb9-ca865ed68377",
    "tags": []
   },
   "outputs": [],
   "source": [
    "BUFFER_SIZE = corrs.shape[0]\n",
    "BATCH_SIZE = 256\n",
    "# Batch and shuffle the data\n",
    "train_dataset = (tf\n",
    "                 .data.Dataset.from_tensor_slices(corrs)\n",
    "                 .shuffle(BUFFER_SIZE)\n",
    "                 .batch(BATCH_SIZE))"
   ]
  },
  {
   "cell_type": "code",
   "execution_count": null,
   "id": "d0fcf8d6-ad77-4bf8-8bf1-5352c153c576",
   "metadata": {
    "colab": {
     "base_uri": "https://localhost:8080/",
     "height": 269
    },
    "id": "d0fcf8d6-ad77-4bf8-8bf1-5352c153c576",
    "outputId": "92ffd28a-6c62-4aa0-fd9e-0dd3527c173d",
    "tags": []
   },
   "outputs": [],
   "source": [
    "import tensorflow as tf\n",
    "from tensorflow.keras.layers import Lambda\n",
    "\n",
    "\n",
    "\n",
    "def make_generator_model():\n",
    "    model = tf.keras.Sequential()\n",
    "    model.add(layers.Dense(n//4 * n//4 * 256,\n",
    "                           use_bias=False,\n",
    "                           input_shape=(n,)))\n",
    "    model.add(layers.BatchNormalization())\n",
    "    model.add(layers.LeakyReLU())\n",
    "\n",
    "    model.add(layers.Reshape((n//4, n//4, 256)))\n",
    "    assert model.output_shape == (None, n//4, n//4, 256)\n",
    "\n",
    "    model.add(layers.Conv2DTranspose(128, (5, 5),\n",
    "                                     strides=(1, 1),\n",
    "                                     padding='same',\n",
    "                                     use_bias=False))\n",
    "    assert model.output_shape == (None, n//4, n//4, 128)\n",
    "    model.add(layers.BatchNormalization())\n",
    "    model.add(layers.LeakyReLU())\n",
    "\n",
    "    model.add(layers.Conv2DTranspose(64, (5, 5),\n",
    "                                     strides=(2, 2),\n",
    "                                     padding='same',\n",
    "                                     use_bias=False))\n",
    "    assert model.output_shape == (None, n//2, n//2, 64)\n",
    "    model.add(layers.BatchNormalization())\n",
    "    model.add(layers.LeakyReLU())\n",
    "\n",
    "    model.add(layers.Conv2DTranspose(1, (5, 5),\n",
    "                                     strides=(2, 2),\n",
    "                                     padding='same',\n",
    "                                     use_bias=False,\n",
    "                                     activation='tanh'))\n",
    "\n",
    "    # add a layer that sets the diagonal to 1\n",
    "    # add a layer that symmetrizes the matrix\n",
    "    \n",
    "    assert model.output_shape == (None, n, n, 1)\n",
    "\n",
    "    return model\n",
    "generator = make_generator_model()\n",
    "\n",
    "noise = tf.random.normal([1, n])\n",
    "generated_image = generator(noise, training=False)\n",
    "\n",
    "plt.pcolormesh(generated_image[0, :, :, 0])\n",
    "plt.colorbar()\n",
    "plt.show()"
   ]
  },
  {
   "cell_type": "code",
   "execution_count": null,
   "id": "fec77b3f-8ee4-4a4c-8ee2-dd9cc567afe1",
   "metadata": {
    "tags": []
   },
   "outputs": [],
   "source": [
    "noise = tf.random.normal([BATCH_SIZE, n])\n",
    "generated_image = generator(noise, training=False)\n"
   ]
  },
  {
   "cell_type": "code",
   "execution_count": null,
   "id": "eb215411-f7a7-42be-aa3f-916f83e90a60",
   "metadata": {
    "colab": {
     "base_uri": "https://localhost:8080/",
     "height": 918
    },
    "id": "b44c0d8d-d240-4412-96f2-0958c6d3b736",
    "outputId": "4026e818-9d48-4bb6-e29d-36bb5137c7d6",
    "tags": []
   },
   "outputs": [],
   "source": [
    "def make_discriminator_model():\n",
    "    model = tf.keras.Sequential()\n",
    "    model.add(layers.Conv2D(64, (5, 5),\n",
    "                            strides=(2, 2),\n",
    "                            padding='same',\n",
    "                            input_shape=[n, n, 1]))\n",
    "    model.add(layers.LeakyReLU())\n",
    "    model.add(layers.Dropout(0.3))\n",
    "\n",
    "    model.add(layers.Conv2D(128, (5, 5),\n",
    "                            strides=(2, 2),\n",
    "                            padding='same'))\n",
    "    model.add(layers.LeakyReLU())\n",
    "    model.add(layers.Dropout(0.3))\n",
    "\n",
    "    model.add(layers.Flatten())\n",
    "    model.add(layers.Dense(1))\n",
    "\n",
    "    return model\n",
    "\n",
    "\n",
    "discriminator = make_discriminator_model()\n",
    "decision = discriminator(generated_image)\n",
    "#print(decision)\n",
    "#tf.Tensor([[2.2654163e-05]], shape=(1, 1), dtype=float32)\n",
    "# This method returns a helper function to compute cross entropy loss\n",
    "\n",
    "cross_entropy = tf.keras.losses.BinaryCrossentropy(from_logits=True)\n",
    "\n",
    "def discriminator_loss(real_output, fake_output):\n",
    "    real_loss = cross_entropy(tf.ones_like(real_output),\n",
    "                              real_output)\n",
    "    fake_loss = cross_entropy(tf.zeros_like(fake_output),\n",
    "                              fake_output)\n",
    "    total_loss = real_loss + fake_loss\n",
    "    return total_loss\n",
    "def generator_loss(fake_output):\n",
    "    return cross_entropy(tf.ones_like(fake_output),\n",
    "                         fake_output)\n",
    "\n",
    "\n",
    "generator_optimizer = tf.keras.optimizers.Adam(1e-4)\n",
    "discriminator_optimizer = tf.keras.optimizers.Adam(1e-4)\n",
    "EPOCHS = 10000\n",
    "noise_dim = n\n",
    "num_examples_to_generate = 16"
   ]
  },
  {
   "cell_type": "code",
   "execution_count": null,
   "id": "5721b185-6096-4487-ba47-90f751d2bcb0",
   "metadata": {
    "colab": {
     "base_uri": "https://localhost:8080/",
     "height": 918
    },
    "id": "b44c0d8d-d240-4412-96f2-0958c6d3b736",
    "outputId": "4026e818-9d48-4bb6-e29d-36bb5137c7d6",
    "tags": []
   },
   "outputs": [],
   "source": [
    "# We will reuse this seed overtime (so it's easier)\n",
    "# to visualize progress in the animated GIF)\n",
    "\n",
    "\n",
    "\n",
    "seed = tf.random.normal([num_examples_to_generate, noise_dim])\n",
    "# Notice the use of `tf.function`\n",
    "# This annotation causes the function to be \"compiled\".\n",
    "@tf.function\n",
    "def train_step(images):\n",
    "    noise = tf.random.normal([BATCH_SIZE, noise_dim])\n",
    "\n",
    "    with tf.GradientTape() as gen_tape, tf.GradientTape() as disc_tape:\n",
    "        generated_images = generator(noise, training=True)\n",
    "\n",
    "        real_output = discriminator(images, training=True)\n",
    "        fake_output = discriminator(generated_images, training=True)\n",
    "\n",
    "        gen_loss = generator_loss(fake_output)\n",
    "        disc_loss = discriminator_loss(real_output, fake_output)\n",
    "\n",
    "    gradients_of_generator = gen_tape.gradient(\n",
    "        gen_loss, generator.trainable_variables)\n",
    "    gradients_of_discriminator = disc_tape.gradient(\n",
    "        disc_loss, discriminator.trainable_variables)\n",
    "\n",
    "    generator_optimizer.apply_gradients(\n",
    "        zip(gradients_of_generator, generator.trainable_variables))\n",
    "    discriminator_optimizer.apply_gradients(\n",
    "        zip(gradients_of_discriminator, discriminator.trainable_variables))\n",
    "    \n",
    "    \n",
    "    \n",
    "def train(dataset, epochs):\n",
    "    for epoch in range(epochs):\n",
    "        start = time.time()\n",
    "\n",
    "        for image_batch in dataset:\n",
    "            train_step(image_batch)\n",
    "\n",
    "        # Produce images for the GIF as we go\n",
    "        display.clear_output(wait=True)\n",
    "        generate_and_save_images(generator,\n",
    "                                 epoch + 1,\n",
    "                                 seed)\n",
    "\n",
    "        print ('Time for epoch {} is {} sec'.format(\n",
    "            epoch + 1, time.time() - start))\n",
    "\n",
    "    # Generate after the final epoch\n",
    "    display.clear_output(wait=True)\n",
    "    generate_and_save_images(generator,\n",
    "                             epochs,\n",
    "                             seed)\n",
    "def generate_and_save_images(model, epoch, test_input):\n",
    "    # Notice `training` is set to False.\n",
    "    # This is so all layers run in inference mode (batchnorm).\n",
    "    predictions = model(test_input, training=False)\n",
    "\n",
    "    fig = plt.figure(figsize=(16, 16))\n",
    "\n",
    "    for i in range(predictions.shape[0]):\n",
    "        plt.subplot(4, 4, i + 1)\n",
    "        plt.imshow(predictions[i, :, :, 0],vmin=-1,vmax=1,cmap=cm.RdBu_r)\n",
    "        plt.axis('off')\n",
    "\n",
    "    plt.savefig('v2_image_at_epoch_{:04d}.png'.format(epoch))\n",
    "    plt.show()\n",
    "#%%time\n",
    "train(train_dataset, EPOCHS)"
   ]
  },
  {
   "cell_type": "code",
   "execution_count": null,
   "id": "c9af9afd-2f25-451e-b4fb-e568f1a9f846",
   "metadata": {
    "tags": []
   },
   "outputs": [],
   "source": [
    "generator.save_weights(\"generator_n40.h5\")\n",
    "discriminator.save_weights(\"discriminator_n40.h5\")"
   ]
  },
  {
   "cell_type": "code",
   "execution_count": null,
   "id": "b3ff8653-8406-489d-8fab-4fb01e92757c",
   "metadata": {},
   "outputs": [],
   "source": []
  }
 ],
 "metadata": {
  "accelerator": "GPU",
  "colab": {
   "provenance": []
  },
  "gpuClass": "standard",
  "kernelspec": {
   "display_name": "Python 3 (ipykernel)",
   "language": "python",
   "name": "python3"
  },
  "language_info": {
   "codemirror_mode": {
    "name": "ipython",
    "version": 3
   },
   "file_extension": ".py",
   "mimetype": "text/x-python",
   "name": "python",
   "nbconvert_exporter": "python",
   "pygments_lexer": "ipython3",
   "version": "3.10.9"
  }
 },
 "nbformat": 4,
 "nbformat_minor": 5
}
